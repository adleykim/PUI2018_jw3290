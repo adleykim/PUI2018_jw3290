{
 "cells": [
  {
   "cell_type": "code",
   "execution_count": 148,
   "metadata": {},
   "outputs": [
    {
     "name": "stdout",
     "output_type": "stream",
     "text": [
      "Populating the interactive namespace from numpy and matplotlib\n"
     ]
    }
   ],
   "source": [
    "from __future__  import print_function, division\n",
    "\n",
    "import pylab as pl\n",
    "import pandas as pd\n",
    "import numpy as np\n",
    "import os\n",
    "from scipy import stats\n",
    "\n",
    "%pylab inline\n"
   ]
  },
  {
   "cell_type": "code",
   "execution_count": 21,
   "metadata": {},
   "outputs": [
    {
     "data": {
      "text/html": [
       "<div>\n",
       "<table border=\"1\" class=\"dataframe\">\n",
       "  <thead>\n",
       "    <tr style=\"text-align: right;\">\n",
       "      <th></th>\n",
       "      <th>Time</th>\n",
       "    </tr>\n",
       "  </thead>\n",
       "  <tbody>\n",
       "    <tr>\n",
       "      <th>0</th>\n",
       "      <td>31.622239</td>\n",
       "    </tr>\n",
       "    <tr>\n",
       "      <th>1</th>\n",
       "      <td>32.821376</td>\n",
       "    </tr>\n",
       "    <tr>\n",
       "      <th>2</th>\n",
       "      <td>30.229101</td>\n",
       "    </tr>\n",
       "    <tr>\n",
       "      <th>3</th>\n",
       "      <td>31.413766</td>\n",
       "    </tr>\n",
       "    <tr>\n",
       "      <th>4</th>\n",
       "      <td>39.010550</td>\n",
       "    </tr>\n",
       "    <tr>\n",
       "      <th>5</th>\n",
       "      <td>34.822079</td>\n",
       "    </tr>\n",
       "    <tr>\n",
       "      <th>6</th>\n",
       "      <td>39.871884</td>\n",
       "    </tr>\n",
       "    <tr>\n",
       "      <th>7</th>\n",
       "      <td>39.579946</td>\n",
       "    </tr>\n",
       "    <tr>\n",
       "      <th>8</th>\n",
       "      <td>31.026587</td>\n",
       "    </tr>\n",
       "    <tr>\n",
       "      <th>9</th>\n",
       "      <td>27.662461</td>\n",
       "    </tr>\n",
       "    <tr>\n",
       "      <th>10</th>\n",
       "      <td>18.875288</td>\n",
       "    </tr>\n",
       "    <tr>\n",
       "      <th>11</th>\n",
       "      <td>46.231373</td>\n",
       "    </tr>\n",
       "    <tr>\n",
       "      <th>12</th>\n",
       "      <td>30.015226</td>\n",
       "    </tr>\n",
       "    <tr>\n",
       "      <th>13</th>\n",
       "      <td>47.600410</td>\n",
       "    </tr>\n",
       "    <tr>\n",
       "      <th>14</th>\n",
       "      <td>16.527267</td>\n",
       "    </tr>\n",
       "    <tr>\n",
       "      <th>15</th>\n",
       "      <td>42.446233</td>\n",
       "    </tr>\n",
       "    <tr>\n",
       "      <th>16</th>\n",
       "      <td>33.625274</td>\n",
       "    </tr>\n",
       "    <tr>\n",
       "      <th>17</th>\n",
       "      <td>42.284626</td>\n",
       "    </tr>\n",
       "    <tr>\n",
       "      <th>18</th>\n",
       "      <td>46.205207</td>\n",
       "    </tr>\n",
       "    <tr>\n",
       "      <th>19</th>\n",
       "      <td>30.875174</td>\n",
       "    </tr>\n",
       "    <tr>\n",
       "      <th>20</th>\n",
       "      <td>32.948003</td>\n",
       "    </tr>\n",
       "    <tr>\n",
       "      <th>21</th>\n",
       "      <td>26.176915</td>\n",
       "    </tr>\n",
       "    <tr>\n",
       "      <th>22</th>\n",
       "      <td>31.256996</td>\n",
       "    </tr>\n",
       "    <tr>\n",
       "      <th>23</th>\n",
       "      <td>35.336446</td>\n",
       "    </tr>\n",
       "    <tr>\n",
       "      <th>24</th>\n",
       "      <td>35.640725</td>\n",
       "    </tr>\n",
       "    <tr>\n",
       "      <th>25</th>\n",
       "      <td>40.322972</td>\n",
       "    </tr>\n",
       "    <tr>\n",
       "      <th>26</th>\n",
       "      <td>38.043486</td>\n",
       "    </tr>\n",
       "    <tr>\n",
       "      <th>27</th>\n",
       "      <td>29.457979</td>\n",
       "    </tr>\n",
       "    <tr>\n",
       "      <th>28</th>\n",
       "      <td>23.916364</td>\n",
       "    </tr>\n",
       "    <tr>\n",
       "      <th>29</th>\n",
       "      <td>34.564035</td>\n",
       "    </tr>\n",
       "    <tr>\n",
       "      <th>...</th>\n",
       "      <td>...</td>\n",
       "    </tr>\n",
       "    <tr>\n",
       "      <th>70</th>\n",
       "      <td>31.481028</td>\n",
       "    </tr>\n",
       "    <tr>\n",
       "      <th>71</th>\n",
       "      <td>37.149151</td>\n",
       "    </tr>\n",
       "    <tr>\n",
       "      <th>72</th>\n",
       "      <td>38.991504</td>\n",
       "    </tr>\n",
       "    <tr>\n",
       "      <th>73</th>\n",
       "      <td>20.530594</td>\n",
       "    </tr>\n",
       "    <tr>\n",
       "      <th>74</th>\n",
       "      <td>27.804477</td>\n",
       "    </tr>\n",
       "    <tr>\n",
       "      <th>75</th>\n",
       "      <td>38.699333</td>\n",
       "    </tr>\n",
       "    <tr>\n",
       "      <th>76</th>\n",
       "      <td>30.022314</td>\n",
       "    </tr>\n",
       "    <tr>\n",
       "      <th>77</th>\n",
       "      <td>38.648842</td>\n",
       "    </tr>\n",
       "    <tr>\n",
       "      <th>78</th>\n",
       "      <td>26.406689</td>\n",
       "    </tr>\n",
       "    <tr>\n",
       "      <th>79</th>\n",
       "      <td>32.102250</td>\n",
       "    </tr>\n",
       "    <tr>\n",
       "      <th>80</th>\n",
       "      <td>28.315328</td>\n",
       "    </tr>\n",
       "    <tr>\n",
       "      <th>81</th>\n",
       "      <td>43.261959</td>\n",
       "    </tr>\n",
       "    <tr>\n",
       "      <th>82</th>\n",
       "      <td>40.360941</td>\n",
       "    </tr>\n",
       "    <tr>\n",
       "      <th>83</th>\n",
       "      <td>37.302526</td>\n",
       "    </tr>\n",
       "    <tr>\n",
       "      <th>84</th>\n",
       "      <td>31.451102</td>\n",
       "    </tr>\n",
       "    <tr>\n",
       "      <th>85</th>\n",
       "      <td>38.795995</td>\n",
       "    </tr>\n",
       "    <tr>\n",
       "      <th>86</th>\n",
       "      <td>36.925534</td>\n",
       "    </tr>\n",
       "    <tr>\n",
       "      <th>87</th>\n",
       "      <td>32.371679</td>\n",
       "    </tr>\n",
       "    <tr>\n",
       "      <th>88</th>\n",
       "      <td>23.258356</td>\n",
       "    </tr>\n",
       "    <tr>\n",
       "      <th>89</th>\n",
       "      <td>26.426133</td>\n",
       "    </tr>\n",
       "    <tr>\n",
       "      <th>90</th>\n",
       "      <td>48.749877</td>\n",
       "    </tr>\n",
       "    <tr>\n",
       "      <th>91</th>\n",
       "      <td>31.425124</td>\n",
       "    </tr>\n",
       "    <tr>\n",
       "      <th>92</th>\n",
       "      <td>46.806793</td>\n",
       "    </tr>\n",
       "    <tr>\n",
       "      <th>93</th>\n",
       "      <td>30.597486</td>\n",
       "    </tr>\n",
       "    <tr>\n",
       "      <th>94</th>\n",
       "      <td>20.792632</td>\n",
       "    </tr>\n",
       "    <tr>\n",
       "      <th>95</th>\n",
       "      <td>26.197852</td>\n",
       "    </tr>\n",
       "    <tr>\n",
       "      <th>96</th>\n",
       "      <td>42.727410</td>\n",
       "    </tr>\n",
       "    <tr>\n",
       "      <th>97</th>\n",
       "      <td>33.731470</td>\n",
       "    </tr>\n",
       "    <tr>\n",
       "      <th>98</th>\n",
       "      <td>37.238591</td>\n",
       "    </tr>\n",
       "    <tr>\n",
       "      <th>99</th>\n",
       "      <td>36.339841</td>\n",
       "    </tr>\n",
       "  </tbody>\n",
       "</table>\n",
       "<p>100 rows × 1 columns</p>\n",
       "</div>"
      ],
      "text/plain": [
       "         Time\n",
       "0   31.622239\n",
       "1   32.821376\n",
       "2   30.229101\n",
       "3   31.413766\n",
       "4   39.010550\n",
       "5   34.822079\n",
       "6   39.871884\n",
       "7   39.579946\n",
       "8   31.026587\n",
       "9   27.662461\n",
       "10  18.875288\n",
       "11  46.231373\n",
       "12  30.015226\n",
       "13  47.600410\n",
       "14  16.527267\n",
       "15  42.446233\n",
       "16  33.625274\n",
       "17  42.284626\n",
       "18  46.205207\n",
       "19  30.875174\n",
       "20  32.948003\n",
       "21  26.176915\n",
       "22  31.256996\n",
       "23  35.336446\n",
       "24  35.640725\n",
       "25  40.322972\n",
       "26  38.043486\n",
       "27  29.457979\n",
       "28  23.916364\n",
       "29  34.564035\n",
       "..        ...\n",
       "70  31.481028\n",
       "71  37.149151\n",
       "72  38.991504\n",
       "73  20.530594\n",
       "74  27.804477\n",
       "75  38.699333\n",
       "76  30.022314\n",
       "77  38.648842\n",
       "78  26.406689\n",
       "79  32.102250\n",
       "80  28.315328\n",
       "81  43.261959\n",
       "82  40.360941\n",
       "83  37.302526\n",
       "84  31.451102\n",
       "85  38.795995\n",
       "86  36.925534\n",
       "87  32.371679\n",
       "88  23.258356\n",
       "89  26.426133\n",
       "90  48.749877\n",
       "91  31.425124\n",
       "92  46.806793\n",
       "93  30.597486\n",
       "94  20.792632\n",
       "95  26.197852\n",
       "96  42.727410\n",
       "97  33.731470\n",
       "98  37.238591\n",
       "99  36.339841\n",
       "\n",
       "[100 rows x 1 columns]"
      ]
     },
     "execution_count": 21,
     "metadata": {},
     "output_type": "execute_result"
    }
   ],
   "source": [
    "pd.read_csv('https://raw.githubusercontent.com/fedhere/PUI2018_fb55/master/Lab4_fb55/times.txt', names=['Time'])"
   ]
  },
  {
   "cell_type": "markdown",
   "metadata": {},
   "source": [
    "- **Null Hypothesis: ** The commute time is longer or the smae after the implementation of the alternative bus route for bus line X8.\n",
    "- **Alternative Hypothesis: ** The commute time is shorter after the implementation of the alternative bus route for bus line X8.\n",
    "- **$H_0$: $T_1$ > or = $T_0$**\n",
    "- **$H_1$: $T_1$ < $T_0$**"
   ]
  },
  {
   "cell_type": "code",
   "execution_count": 22,
   "metadata": {},
   "outputs": [],
   "source": [
    "df = pd.read_csv('https://raw.githubusercontent.com/fedhere/PUI2018_fb55/master/Lab4_fb55/times.txt', names=['Time'])"
   ]
  },
  {
   "cell_type": "code",
   "execution_count": 36,
   "metadata": {},
   "outputs": [],
   "source": [
    "Tnew = df['Time']"
   ]
  },
  {
   "cell_type": "code",
   "execution_count": 76,
   "metadata": {},
   "outputs": [],
   "source": [
    "smean = sum(Tnew) / 100\n",
    "N = len(Tnew)"
   ]
  },
  {
   "cell_type": "code",
   "execution_count": 60,
   "metadata": {},
   "outputs": [],
   "source": [
    "pmean = 36\n",
    "std = 6"
   ]
  },
  {
   "cell_type": "code",
   "execution_count": 81,
   "metadata": {},
   "outputs": [],
   "source": [
    "zscore = (pmean - smean)/(std / sqrt(N))"
   ]
  },
  {
   "cell_type": "code",
   "execution_count": 82,
   "metadata": {},
   "outputs": [
    {
     "data": {
      "text/plain": [
       "2.5563971861666701"
      ]
     },
     "execution_count": 82,
     "metadata": {},
     "output_type": "execute_result"
    }
   ],
   "source": [
    "zscore"
   ]
  },
  {
   "cell_type": "code",
   "execution_count": 144,
   "metadata": {},
   "outputs": [],
   "source": [
    "alpha1 = 0.05\n",
    "critical1 = 1.645"
   ]
  },
  {
   "cell_type": "code",
   "execution_count": 147,
   "metadata": {},
   "outputs": [
    {
     "name": "stdout",
     "output_type": "stream",
     "text": [
      "Z-score of the new bus line travel time is 2.56 with a significance level at 0.050\n",
      "Z-score hit the critical value, null hypothesis is rejected\n"
     ]
    }
   ],
   "source": [
    "if zscore > critical1:\n",
    "    print (\"Z-score of the new bus line travel time is %.2f\"%zscore + \" with a significance level at %.3f\"%alpha1\n",
    "           + \"\\nZ-score hit the critical value, null hypothesis is rejected\")\n",
    "    \n",
    "if zscore <= critical1:\n",
    "    print (\"Z-score of the new bus line travel time is %.2f\"%zscore + \" with a significance level at %.3f\"%alpha1\n",
    "           + \"\\nZ-score didn't hit the critical value, null hypothesis fails to be rejected\")"
   ]
  },
  {
   "cell_type": "code",
   "execution_count": 115,
   "metadata": {},
   "outputs": [],
   "source": [
    "alpha2 = 0.025\n",
    "critical2 = 1.960"
   ]
  },
  {
   "cell_type": "code",
   "execution_count": 138,
   "metadata": {},
   "outputs": [
    {
     "name": "stdout",
     "output_type": "stream",
     "text": [
      "Z-score of the new bus line travel time is 2.56 with a significance level at 0.025\n",
      "Z-score hit the critical value, null hypothesis is rejected\n"
     ]
    }
   ],
   "source": [
    "if zscore > critical2:\n",
    "    print (\"Z-score of the new bus line travel time is %.2f\"%zscore + \" with a significance level at %.3f\"%alpha2\n",
    "           + \"\\nZ-score hit the critical value, null hypothesis is rejected\")\n",
    "    \n",
    "if zscore <= critical2:\n",
    "    print (\"Z-score of the new bus line travel time is %.2f\"%zscore + \" with a significance level at %.3f\"%alpha2\n",
    "           + \"\\nZ-score didn't hit the critical value, null hypothesis fails to be rejected\")"
   ]
  },
  {
   "cell_type": "code",
   "execution_count": 139,
   "metadata": {},
   "outputs": [],
   "source": [
    "alpha3 = 0.01\n",
    "critical3 = 2.326"
   ]
  },
  {
   "cell_type": "code",
   "execution_count": 140,
   "metadata": {},
   "outputs": [
    {
     "name": "stdout",
     "output_type": "stream",
     "text": [
      "Z-score of the new bus line travel time is 2.56 with a significance level at 0.010\n",
      "Z-score hit the critical value, null hypothesis is rejected\n"
     ]
    }
   ],
   "source": [
    "if zscore > critical3:\n",
    "    print (\"Z-score of the new bus line travel time is %.2f\"%zscore + \" with a significance level at %.3f\"%alpha3 \n",
    "           + \"\\nZ-score hit the critical value, null hypothesis is rejected\")\n",
    "    \n",
    "if zscore <= critical3:\n",
    "    print (\"Z-score of the new bus line travel time is %.2f\"%zscore + \" with a significance level at %.3f\"%alpha3 \n",
    "           + \"\\nZ-score didn't hit the critical value, null hypothesis fails to be rejected\")"
   ]
  },
  {
   "cell_type": "code",
   "execution_count": 141,
   "metadata": {},
   "outputs": [],
   "source": [
    "alpha4 = 0.005\n",
    "critical4 = 2.576"
   ]
  },
  {
   "cell_type": "code",
   "execution_count": 142,
   "metadata": {},
   "outputs": [
    {
     "name": "stdout",
     "output_type": "stream",
     "text": [
      "Z-score of the new bus line travel time is 2.56 with a significance level at 0.005\n",
      "Z-score didn't hit the critical value, null hypothesis fails to be rejected\n"
     ]
    }
   ],
   "source": [
    "if zscore > critical4:\n",
    "    print (\"Z-score of the new bus line travel time is %.2f\"%zscore + \" with a significance level at %.3f\"%alpha4 \n",
    "           + \"\\nZ-score hitthe critical value, null hypothesis is rejected\")\n",
    "    \n",
    "if zscore <= critical4:\n",
    "    print (\"Z-score of the new bus line travel time is %.2f\"%zscore + \" with a significance level at %.3f\"%alpha4 \n",
    "           + \"\\nZ-score didn't hit the critical value, null hypothesis fails to be rejected\")"
   ]
  },
  {
   "cell_type": "markdown",
   "metadata": {},
   "source": [
    "**Conclusion: ** The null hypothesis is rejected at the significance level of 0.01, meaning there is only 1% probability of getting type I error. It means that the commute time is shorter after the implementation of the alternative bus route for bus line X8. "
   ]
  }
 ],
 "metadata": {
  "kernelspec": {
   "display_name": "PUI2016_Python2",
   "language": "python",
   "name": "pui2016_python2"
  },
  "language_info": {
   "codemirror_mode": {
    "name": "ipython",
    "version": 2
   },
   "file_extension": ".py",
   "mimetype": "text/x-python",
   "name": "python",
   "nbconvert_exporter": "python",
   "pygments_lexer": "ipython2",
   "version": "2.7.12"
  }
 },
 "nbformat": 4,
 "nbformat_minor": 2
}
